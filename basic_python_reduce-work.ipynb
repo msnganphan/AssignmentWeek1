{
 "cells": [
  {
   "cell_type": "markdown",
   "metadata": {},
   "source": [
    "# <span style=\"color:red;font-weight:bold\">Coderschool</span> - Python basic (cont)"
   ]
  },
  {
   "cell_type": "markdown",
   "metadata": {},
   "source": [
    "## Table of Contents\n",
    "#### 1. [For loop](#1) \n",
    "#### 2. [Functions](#2)\n",
    "#### 3. [Dictionaries](#3)"
   ]
  },
  {
   "cell_type": "markdown",
   "metadata": {},
   "source": [
    "**Question:** Convert name of 64 Vietnamese provinces to UPPER case\n",
    "```python\n",
    "list_provinces = [\n",
    "    'An Giang', 'Ba Ria-Vung Tau', 'Bac Lieu', 'Bac Kan', 'Bac Giang',\n",
    "    'Bac Ninh', 'Ben Tre', 'Binh Duong', 'Binh Dinh', 'Binh Phuoc', \n",
    "    'Binh Thuan', 'Ca Mau', 'Cao Bang', 'Can Tho (TP)', 'Da Nang (TP)', \n",
    "    'Dak Lak', 'Dak Nong', 'Dien Bien', 'Dong Nai', 'Dong Thap', 'Gia Lai', \n",
    "    'Ha Giang', 'Ha Nam', 'Ha Noi (TP)', 'Ha Tay', 'Ha Tinh', 'Hai Duong', \n",
    "    'Hai Phong (TP)', 'Hoa Binh', 'Ho Chi Minh (TP)', 'Hau Giang', 'Hung Yen', \n",
    "    'Khanh Hoa', 'Kien Giang', 'Kon Tum', 'Lai Chau', 'Lao Cai', 'Lang Son', \n",
    "    'Lam Dong', 'Long An', 'Nam Dinh', 'Nghe An', 'Ninh Binh', 'Ninh Thuan', \n",
    "    'Phu Tho', 'Phu Yen', 'Quang Binh', 'Quang Nam', 'Quang Ngai', 'Quang Ninh', \n",
    "    'Quang Tri', 'Soc Trang', 'Son La', 'Tay Ninh', 'Thai Binh', 'Thai Nguyen', \n",
    "    'Thanh Hoa', 'Thua Thien - Hue', 'Tien Giang', 'Tra Vinh', 'Tuyen Quang', \n",
    "    'Vinh Long', 'Vinh Phuc', 'Yen Bai']\n",
    "```\n",
    "> Example: 'An Giang' -> 'AN GIANG'\n",
    "\n",
    "> Hint: using built in function of string\n",
    "```python\n",
    "print('An Giang'.upper())\n",
    "```"
   ]
  },
  {
   "cell_type": "code",
   "execution_count": 3,
   "metadata": {},
   "outputs": [
    {
     "name": "stdout",
     "output_type": "stream",
     "text": [
      "BAC LIEU\n"
     ]
    }
   ],
   "source": [
    "# Your code here\n",
    "\n",
    "list_provinces = [\n",
    "    'An Giang', 'Ba Ria-Vung Tau', 'Bac Lieu', 'Bac Kan', 'Bac Giang',\n",
    "    'Bac Ninh', 'Ben Tre', 'Binh Duong', 'Binh Dinh', 'Binh Phuoc', \n",
    "    'Binh Thuan', 'Ca Mau', 'Cao Bang', 'Can Tho (TP)', 'Da Nang (TP)', \n",
    "    'Dak Lak', 'Dak Nong', 'Dien Bien', 'Dong Nai', 'Dong Thap', 'Gia Lai', \n",
    "    'Ha Giang', 'Ha Nam', 'Ha Noi (TP)', 'Ha Tay', 'Ha Tinh', 'Hai Duong', \n",
    "    'Hai Phong (TP)', 'Hoa Binh', 'Ho Chi Minh (TP)', 'Hau Giang', 'Hung Yen', \n",
    "    'Khanh Hoa', 'Kien Giang', 'Kon Tum', 'Lai Chau', 'Lao Cai', 'Lang Son', \n",
    "    'Lam Dong', 'Long An', 'Nam Dinh', 'Nghe An', 'Ninh Binh', 'Ninh Thuan', \n",
    "    'Phu Tho', 'Phu Yen', 'Quang Binh', 'Quang Nam', 'Quang Ngai', 'Quang Ninh', \n",
    "    'Quang Tri', 'Soc Trang', 'Son La', 'Tay Ninh', 'Thai Binh', 'Thai Nguyen', \n",
    "    'Thanh Hoa', 'Thua Thien - Hue', 'Tien Giang', 'Tra Vinh', 'Tuyen Quang', \n",
    "    'Vinh Long', 'Vinh Phuc', 'Yen Bai']\n",
    "print(list_provinces[2].upper())\n"
   ]
  },
  {
   "cell_type": "markdown",
   "metadata": {},
   "source": [
    "## 1. For loop<a id=\"1\"></a>\n",
    "Loops are a way to repeatedly execute some codes.The **``for``** loop specifies:\n",
    "- The variable name to use (in this case, `province`)\n",
    "- The set of values to loop over (in this case, `list_provinces`)\n",
    "\n",
    "You use the word **``in``** to link them together.\n",
    "\n",
    "The object to the right of the \"``in``\" can be any object that supports iteration. Basically, if it can be thought of as a group of things, you can probably loop over it. Any string in Python is a sequence of its characters, so we can iterate over them using for:"
   ]
  },
  {
   "cell_type": "code",
   "execution_count": 2,
   "metadata": {
    "scrolled": true
   },
   "outputs": [
    {
     "name": "stdout",
     "output_type": "stream",
     "text": [
      "AN GIANG\n",
      "BA RIA-VUNG TAU\n",
      "BAC LIEU\n",
      "BAC KAN\n",
      "BAC GIANG\n",
      "BAC NINH\n",
      "BEN TRE\n",
      "BINH DUONG\n",
      "BINH DINH\n",
      "BINH PHUOC\n",
      "BINH THUAN\n",
      "CA MAU\n",
      "CAO BANG\n",
      "CAN THO (TP)\n",
      "DA NANG (TP)\n",
      "DAK LAK\n",
      "DAK NONG\n",
      "DIEN BIEN\n",
      "DONG NAI\n",
      "DONG THAP\n",
      "GIA LAI\n",
      "HA GIANG\n",
      "HA NAM\n",
      "HA NOI (TP)\n",
      "HA TAY\n",
      "HA TINH\n",
      "HAI DUONG\n",
      "HAI PHONG (TP)\n",
      "HOA BINH\n",
      "HO CHI MINH (TP)\n",
      "HAU GIANG\n",
      "HUNG YEN\n",
      "KHANH HOA\n",
      "KIEN GIANG\n",
      "KON TUM\n",
      "LAI CHAU\n",
      "LAO CAI\n",
      "LANG SON\n",
      "LAM DONG\n",
      "LONG AN\n",
      "NAM DINH\n",
      "NGHE AN\n",
      "NINH BINH\n",
      "NINH THUAN\n",
      "PHU THO\n",
      "PHU YEN\n",
      "QUANG BINH\n",
      "QUANG NAM\n",
      "QUANG NGAI\n",
      "QUANG NINH\n",
      "QUANG TRI\n",
      "SOC TRANG\n",
      "SON LA\n",
      "TAY NINH\n",
      "THAI BINH\n",
      "THAI NGUYEN\n",
      "THANH HOA\n",
      "THUA THIEN - HUE\n",
      "TIEN GIANG\n",
      "TRA VINH\n",
      "TUYEN QUANG\n",
      "VINH LONG\n",
      "VINH PHUC\n",
      "YEN BAI\n"
     ]
    }
   ],
   "source": [
    "# Your code here\n",
    "\n",
    "list_provinces = [\n",
    "    'An Giang', 'Ba Ria-Vung Tau', 'Bac Lieu', 'Bac Kan', 'Bac Giang',\n",
    "    'Bac Ninh', 'Ben Tre', 'Binh Duong', 'Binh Dinh', 'Binh Phuoc', \n",
    "    'Binh Thuan', 'Ca Mau', 'Cao Bang', 'Can Tho (TP)', 'Da Nang (TP)', \n",
    "    'Dak Lak', 'Dak Nong', 'Dien Bien', 'Dong Nai', 'Dong Thap', 'Gia Lai', \n",
    "    'Ha Giang', 'Ha Nam', 'Ha Noi (TP)', 'Ha Tay', 'Ha Tinh', 'Hai Duong', \n",
    "    'Hai Phong (TP)', 'Hoa Binh', 'Ho Chi Minh (TP)', 'Hau Giang', 'Hung Yen', \n",
    "    'Khanh Hoa', 'Kien Giang', 'Kon Tum', 'Lai Chau', 'Lao Cai', 'Lang Son', \n",
    "    'Lam Dong', 'Long An', 'Nam Dinh', 'Nghe An', 'Ninh Binh', 'Ninh Thuan', \n",
    "    'Phu Tho', 'Phu Yen', 'Quang Binh', 'Quang Nam', 'Quang Ngai', 'Quang Ninh', \n",
    "    'Quang Tri', 'Soc Trang', 'Son La', 'Tay Ninh', 'Thai Binh', 'Thai Nguyen', \n",
    "    'Thanh Hoa', 'Thua Thien - Hue', 'Tien Giang', 'Tra Vinh', 'Tuyen Quang', \n",
    "    'Vinh Long', 'Vinh Phuc', 'Yen Bai']\n",
    "\n",
    "for province in list_provinces:\n",
    "    print(province.upper())\n",
    "    "
   ]
  },
  {
   "cell_type": "markdown",
   "metadata": {},
   "source": [
    "**Question:** Convert name of 50 U.S. State to UPPER case\n",
    "```python\n",
    "list_states = ['Alabama', 'Alaska', 'Arizona', 'Arkansas', 'California', \n",
    "              'Colorado', 'Connecticut', 'Delaware', 'Florida', 'Georgia', \n",
    "              'Hawaii', 'Idaho', 'Illinois', 'Indiana', 'Iowa', 'Kansas', \n",
    "              'Kentucky', 'Louisiana', 'Maine', 'Maryland', 'Massachusetts', \n",
    "              'Michigan', 'Minnesota', 'Mississippi', 'Missouri', 'Montana', \n",
    "              'Nebraska', 'Nevada', 'New Hampshire', 'New Jersey', 'New Mexico', \n",
    "              'New York', 'North Carolina', 'North Dakota', 'Ohio', 'Oklahoma', \n",
    "              'Oregon', 'Pennsylvania', 'Rhode Island', 'South Carolina', \n",
    "              'South Dakota', 'Tennessee', 'Texas', 'Utah', 'Vermont', 'Virginia', \n",
    "              'Washington', 'West Virginia', 'Wisconsin', 'Wyoming']\n",
    "```"
   ]
  },
  {
   "cell_type": "code",
   "execution_count": 4,
   "metadata": {},
   "outputs": [
    {
     "name": "stdout",
     "output_type": "stream",
     "text": [
      "ALABAMA\n",
      "ALASKA\n",
      "ARIZONA\n",
      "ARKANSAS\n",
      "CALIFORNIA\n",
      "COLORADO\n",
      "CONNECTICUT\n",
      "DELAWARE\n",
      "FLORIDA\n",
      "GEORGIA\n",
      "HAWAII\n",
      "IDAHO\n",
      "ILLINOIS\n",
      "INDIANA\n",
      "IOWA\n",
      "KANSAS\n",
      "KENTUCKY\n",
      "LOUISIANA\n",
      "MAINE\n",
      "MARYLAND\n",
      "MASSACHUSETTS\n",
      "MICHIGAN\n",
      "MINNESOTA\n",
      "MISSISSIPPI\n",
      "MISSOURI\n",
      "MONTANA\n",
      "NEBRASKA\n",
      "NEVADA\n",
      "NEW HAMPSHIRE\n",
      "NEW JERSEY\n",
      "NEW MEXICO\n",
      "NEW YORK\n",
      "NORTH CAROLINA\n",
      "NORTH DAKOTA\n",
      "OHIO\n",
      "OKLAHOMA\n",
      "OREGON\n",
      "PENNSYLVANIA\n",
      "RHODE ISLAND\n",
      "SOUTH CAROLINA\n",
      "SOUTH DAKOTA\n",
      "TENNESSEE\n",
      "TEXAS\n",
      "UTAH\n",
      "VERMONT\n",
      "VIRGINIA\n",
      "WASHINGTON\n",
      "WEST VIRGINIA\n",
      "WISCONSIN\n",
      "WYOMING\n"
     ]
    }
   ],
   "source": [
    "# Your code here\n",
    "\n",
    "list_states = ['Alabama', 'Alaska', 'Arizona', 'Arkansas', 'California', \n",
    "              'Colorado', 'Connecticut', 'Delaware', 'Florida', 'Georgia', \n",
    "              'Hawaii', 'Idaho', 'Illinois', 'Indiana', 'Iowa', 'Kansas', \n",
    "              'Kentucky', 'Louisiana', 'Maine', 'Maryland', 'Massachusetts', \n",
    "              'Michigan', 'Minnesota', 'Mississippi', 'Missouri', 'Montana', \n",
    "              'Nebraska', 'Nevada', 'New Hampshire', 'New Jersey', 'New Mexico', \n",
    "              'New York', 'North Carolina', 'North Dakota', 'Ohio', 'Oklahoma', \n",
    "              'Oregon', 'Pennsylvania', 'Rhode Island', 'South Carolina', \n",
    "              'South Dakota', 'Tennessee', 'Texas', 'Utah', 'Vermont', 'Virginia', \n",
    "              'Washington', 'West Virginia', 'Wisconsin', 'Wyoming']\n",
    "for state in list_states:\n",
    "    print(state.upper())\n"
   ]
  },
  {
   "cell_type": "markdown",
   "metadata": {},
   "source": [
    "## 2. Function<a id=\"2\"></a>\n",
    "**Functions** are the code sections which are isolated from the rest of program and executed only when called.\n",
    "You've already seen and used built-in function such as `print()`. But Python has many more functions, and defining your own functions is a big part of Python programming. "
   ]
  },
  {
   "cell_type": "code",
   "execution_count": 6,
   "metadata": {
    "scrolled": true
   },
   "outputs": [
    {
     "data": {
      "text/plain": [
       "['ALABAMA',\n",
       " 'ALASKA',\n",
       " 'ARIZONA',\n",
       " 'ARKANSAS',\n",
       " 'CALIFORNIA',\n",
       " 'COLORADO',\n",
       " 'CONNECTICUT',\n",
       " 'DELAWARE',\n",
       " 'FLORIDA',\n",
       " 'GEORGIA',\n",
       " 'HAWAII',\n",
       " 'IDAHO',\n",
       " 'ILLINOIS',\n",
       " 'INDIANA',\n",
       " 'IOWA',\n",
       " 'KANSAS',\n",
       " 'KENTUCKY',\n",
       " 'LOUISIANA',\n",
       " 'MAINE',\n",
       " 'MARYLAND',\n",
       " 'MASSACHUSETTS',\n",
       " 'MICHIGAN',\n",
       " 'MINNESOTA',\n",
       " 'MISSISSIPPI',\n",
       " 'MISSOURI',\n",
       " 'MONTANA',\n",
       " 'NEBRASKA',\n",
       " 'NEVADA',\n",
       " 'NEW HAMPSHIRE',\n",
       " 'NEW JERSEY',\n",
       " 'NEW MEXICO',\n",
       " 'NEW YORK',\n",
       " 'NORTH CAROLINA',\n",
       " 'NORTH DAKOTA',\n",
       " 'OHIO',\n",
       " 'OKLAHOMA',\n",
       " 'OREGON',\n",
       " 'PENNSYLVANIA',\n",
       " 'RHODE ISLAND',\n",
       " 'SOUTH CAROLINA',\n",
       " 'SOUTH DAKOTA',\n",
       " 'TENNESSEE',\n",
       " 'TEXAS',\n",
       " 'UTAH',\n",
       " 'VERMONT',\n",
       " 'VIRGINIA',\n",
       " 'WASHINGTON',\n",
       " 'WEST VIRGINIA',\n",
       " 'WISCONSIN',\n",
       " 'WYOMING']"
      ]
     },
     "execution_count": 6,
     "metadata": {},
     "output_type": "execute_result"
    }
   ],
   "source": [
    "def to_upper(in_list):\n",
    "    # Your code here\n",
    "    upper_list = []\n",
    "    for item in in_list:\n",
    "        upper_list.append(item.upper())\n",
    "    return upper_list\n",
    "\n",
    "to_upper(list_provinces)\n",
    "to_upper(list_states)"
   ]
  },
  {
   "cell_type": "markdown",
   "metadata": {},
   "source": [
    "## 3. Dictionary<a id=\"3\"></a>\n",
    "Data structure, which allows to use an arbitrary type of index instead of just numerical, is called **dictionary**. In Python, it is called `dict`.\n",
    "\n",
    "An empty dictionary can be created using the function `dict()` or an empty pair of curly braces `{}`."
   ]
  },
  {
   "cell_type": "code",
   "execution_count": 51,
   "metadata": {},
   "outputs": [
    {
     "name": "stdout",
     "output_type": "stream",
     "text": [
      "The capital of Russia is Moscow\n",
      "The capital of France is unknown\n",
      "The capital of USA is Washington\n",
      "The capital of Russia is Moscow\n"
     ]
    }
   ],
   "source": [
    "# Create empty dict Capitals\n",
    "Capitals = dict()\n",
    "\n",
    "# Fill it with some values\n",
    "Capitals['Russia'] = 'Moscow'\n",
    "Capitals['Ukraine'] = 'Kiev'\n",
    "Capitals['USA'] = 'Washington'\n",
    "\n",
    "# A list of countries\n",
    "Countries = ['Russia', 'France', 'USA', 'Russia']\n",
    "\n",
    "for country in Countries:\n",
    "  # For each country from the list check to see whether it is in the dictionary Capitals\n",
    "    if country in Capitals:\n",
    "        print('The capital of ' + country + ' is ' + Capitals[country])\n",
    "    else:\n",
    "        print('The capital of ' + country + ' is unknown')"
   ]
  },
  {
   "cell_type": "code",
   "execution_count": 5,
   "metadata": {},
   "outputs": [],
   "source": [
    "# Second way to define dictionary\n",
    "Capitals = {\n",
    "    'Russia': 'Moscow', \n",
    "    'Ukraine': 'Kiev', \n",
    "    'USA': 'Washington'\n",
    "}"
   ]
  }
 ],
 "metadata": {
  "kernelspec": {
   "display_name": "Python 3",
   "language": "python",
   "name": "python3"
  },
  "language_info": {
   "codemirror_mode": {
    "name": "ipython",
    "version": 3
   },
   "file_extension": ".py",
   "mimetype": "text/x-python",
   "name": "python",
   "nbconvert_exporter": "python",
   "pygments_lexer": "ipython3",
   "version": "3.7.3"
  }
 },
 "nbformat": 4,
 "nbformat_minor": 2
}
